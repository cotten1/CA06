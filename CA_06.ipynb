{
  "nbformat": 4,
  "nbformat_minor": 0,
  "metadata": {
    "colab": {
      "name": "CA 06.ipynb",
      "provenance": [],
      "collapsed_sections": []
    },
    "kernelspec": {
      "name": "python3",
      "display_name": "Python 3"
    },
    "language_info": {
      "name": "python"
    }
  },
  "cells": [
    {
      "cell_type": "code",
      "metadata": {
        "id": "W1pqUKeoiPrE"
      },
      "source": [
        "#import packages\n",
        "import pandas as pd\n",
        "import numpy as np\n",
        "from sklearn.neighbors import NearestNeighbors\n"
      ],
      "execution_count": 5,
      "outputs": []
    },
    {
      "cell_type": "code",
      "metadata": {
        "colab": {
          "base_uri": "https://localhost:8080/",
          "height": 238
        },
        "id": "8RvlOeTLiCS8",
        "outputId": "8cac822f-e854-4d9e-85e3-819138284032"
      },
      "source": [
        "path = 'https://github.com/ArinB/CA05-kNN/raw/master/movies_recommendation_data.csv'\n",
        "\n",
        "df = pd.read_csv(path) \n",
        "df.head()\n",
        "df.tail()"
      ],
      "execution_count": 2,
      "outputs": [
        {
          "output_type": "execute_result",
          "data": {
            "text/html": [
              "<div>\n",
              "<style scoped>\n",
              "    .dataframe tbody tr th:only-of-type {\n",
              "        vertical-align: middle;\n",
              "    }\n",
              "\n",
              "    .dataframe tbody tr th {\n",
              "        vertical-align: top;\n",
              "    }\n",
              "\n",
              "    .dataframe thead th {\n",
              "        text-align: right;\n",
              "    }\n",
              "</style>\n",
              "<table border=\"1\" class=\"dataframe\">\n",
              "  <thead>\n",
              "    <tr style=\"text-align: right;\">\n",
              "      <th></th>\n",
              "      <th>Movie ID</th>\n",
              "      <th>Movie Name</th>\n",
              "      <th>IMDB Rating</th>\n",
              "      <th>Biography</th>\n",
              "      <th>Drama</th>\n",
              "      <th>Thriller</th>\n",
              "      <th>Comedy</th>\n",
              "      <th>Crime</th>\n",
              "      <th>Mystery</th>\n",
              "      <th>History</th>\n",
              "      <th>Label</th>\n",
              "    </tr>\n",
              "  </thead>\n",
              "  <tbody>\n",
              "    <tr>\n",
              "      <th>25</th>\n",
              "      <td>17</td>\n",
              "      <td>Thor: Ragnarok</td>\n",
              "      <td>7.9</td>\n",
              "      <td>0</td>\n",
              "      <td>0</td>\n",
              "      <td>0</td>\n",
              "      <td>1</td>\n",
              "      <td>0</td>\n",
              "      <td>0</td>\n",
              "      <td>0</td>\n",
              "      <td>0</td>\n",
              "    </tr>\n",
              "    <tr>\n",
              "      <th>26</th>\n",
              "      <td>12</td>\n",
              "      <td>Spirit: Stallion of the Cimarron</td>\n",
              "      <td>7.1</td>\n",
              "      <td>0</td>\n",
              "      <td>0</td>\n",
              "      <td>0</td>\n",
              "      <td>0</td>\n",
              "      <td>0</td>\n",
              "      <td>0</td>\n",
              "      <td>0</td>\n",
              "      <td>0</td>\n",
              "    </tr>\n",
              "    <tr>\n",
              "      <th>27</th>\n",
              "      <td>1</td>\n",
              "      <td>Hacksaw Ridge</td>\n",
              "      <td>8.2</td>\n",
              "      <td>1</td>\n",
              "      <td>1</td>\n",
              "      <td>0</td>\n",
              "      <td>0</td>\n",
              "      <td>0</td>\n",
              "      <td>0</td>\n",
              "      <td>1</td>\n",
              "      <td>0</td>\n",
              "    </tr>\n",
              "    <tr>\n",
              "      <th>28</th>\n",
              "      <td>86</td>\n",
              "      <td>12 Years a Slave</td>\n",
              "      <td>8.1</td>\n",
              "      <td>1</td>\n",
              "      <td>1</td>\n",
              "      <td>0</td>\n",
              "      <td>0</td>\n",
              "      <td>0</td>\n",
              "      <td>0</td>\n",
              "      <td>1</td>\n",
              "      <td>0</td>\n",
              "    </tr>\n",
              "    <tr>\n",
              "      <th>29</th>\n",
              "      <td>46</td>\n",
              "      <td>Queen of Katwe</td>\n",
              "      <td>7.4</td>\n",
              "      <td>1</td>\n",
              "      <td>1</td>\n",
              "      <td>0</td>\n",
              "      <td>0</td>\n",
              "      <td>0</td>\n",
              "      <td>0</td>\n",
              "      <td>0</td>\n",
              "      <td>0</td>\n",
              "    </tr>\n",
              "  </tbody>\n",
              "</table>\n",
              "</div>"
            ],
            "text/plain": [
              "    Movie ID                        Movie Name  ...  History  Label\n",
              "25        17                    Thor: Ragnarok  ...        0      0\n",
              "26        12  Spirit: Stallion of the Cimarron  ...        0      0\n",
              "27         1                     Hacksaw Ridge  ...        1      0\n",
              "28        86                  12 Years a Slave  ...        1      0\n",
              "29        46                    Queen of Katwe  ...        0      0\n",
              "\n",
              "[5 rows x 11 columns]"
            ]
          },
          "metadata": {
            "tags": []
          },
          "execution_count": 2
        }
      ]
    },
    {
      "cell_type": "code",
      "metadata": {
        "id": "a1wwFlm4pTJK"
      },
      "source": [
        "# training data\n",
        "features_list = ['IMDB Rating',\t'Biography',\t'Drama',\t'Thriller',\t'Comedy',\t'Crime',\t'Mystery',\t'History']\n",
        "X = df[features_list]\n",
        "y = df['Movie ID']"
      ],
      "execution_count": 6,
      "outputs": []
    },
    {
      "cell_type": "code",
      "metadata": {
        "id": "TBDVUVVbo34f",
        "colab": {
          "base_uri": "https://localhost:8080/"
        },
        "outputId": "0ba5d6c7-cad3-4bc4-bd84-33736d4677b3"
      },
      "source": [
        "#choose top 5 recommendations\n",
        "neigh = NearestNeighbors(n_neighbors=5)\n",
        "neigh.fit(X)\n",
        "#values given in assignment for \"The Post\"\n",
        "index_list = (neigh.kneighbors([[7.2, 1, 1, 0, 0, 0, 0, 1]], return_distance=False))\n",
        "recommendations = []\n",
        "\n",
        "#prints movie information and creates list of recommendations\n",
        "for x in index_list:\n",
        "  print(df.iloc[x])\n",
        "  recommendations.append(df.iloc[x,1])\n",
        "\n",
        "#print list\n",
        "print(recommendations)"
      ],
      "execution_count": 17,
      "outputs": [
        {
          "output_type": "stream",
          "text": [
            "    Movie ID        Movie Name  IMDB Rating  ...  Mystery  History  Label\n",
            "28        86  12 Years a Slave          8.1  ...        0        1      0\n",
            "27         1     Hacksaw Ridge          8.2  ...        0        1      0\n",
            "29        46    Queen of Katwe          7.4  ...        0        0      0\n",
            "16        44    The Wind Rises          7.8  ...        0        0      0\n",
            "2         46  A Beautiful Mind          8.2  ...        0        0      0\n",
            "\n",
            "[5 rows x 11 columns]\n",
            "[28    12 Years a Slave\n",
            "27       Hacksaw Ridge\n",
            "29      Queen of Katwe\n",
            "16      The Wind Rises\n",
            "2     A Beautiful Mind\n",
            "Name: Movie Name, dtype: object]\n"
          ],
          "name": "stdout"
        }
      ]
    }
  ]
}